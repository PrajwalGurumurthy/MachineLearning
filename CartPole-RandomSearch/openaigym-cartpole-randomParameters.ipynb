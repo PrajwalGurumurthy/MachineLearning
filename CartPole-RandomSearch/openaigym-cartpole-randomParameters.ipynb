{
 "cells": [
  {
   "cell_type": "code",
   "execution_count": 2,
   "metadata": {
    "collapsed": false
   },
   "outputs": [
    {
     "name": "stderr",
     "output_type": "stream",
     "text": [
      "INFO:gym.envs.registration:Making new env: CartPole-v0\n",
      "[2017-02-20 22:21:37,705] Making new env: CartPole-v0\n"
     ]
    },
    {
     "data": {
      "text/plain": [
       "array([ 0.02917366, -0.02120763, -0.01273265, -0.02612645])"
      ]
     },
     "execution_count": 2,
     "metadata": {},
     "output_type": "execute_result"
    }
   ],
   "source": [
    "import gym\n",
    "import numpy as np\n",
    "env = gym.make('CartPole-v0')\n",
    "env.reset()"
   ]
  },
  {
   "cell_type": "code",
   "execution_count": 3,
   "metadata": {
    "collapsed": false
   },
   "outputs": [
    {
     "name": "stdout",
     "output_type": "stream",
     "text": [
      "[ 0.56267716  0.94634207  0.97850248  0.0136306 ]\n"
     ]
    }
   ],
   "source": [
    "def getNextAction(parameters,observation):\n",
    "    parameters = np.random.rand(4);\n",
    "    action = 0 if np.matmul(parameters,observation) < 0 else 1;\n",
    "    return action;\n",
    "\n",
    "\n",
    "def testRun(env,parameters):\n",
    "    currentBest = 0;\n",
    "    action = 0;\n",
    "    for _ in range(200):\n",
    "        observation, reward, done, info = env.step(action);\n",
    "        action = getNextAction(parameters,observation);       \n",
    "        env.render()       \n",
    "        if done:\n",
    "            env.reset();\n",
    "            return currentBest\n",
    "        else:\n",
    "            currentBest+=1;\n",
    "\n",
    "\n",
    "for _ in range(10000):\n",
    "    parameters = np.random.rand(4);\n",
    "    curReward = testRun(env,parameters)\n",
    "    if curReward > 100:\n",
    "        print(parameters)\n",
    "        break;"
   ]
  },
  {
   "cell_type": "code",
   "execution_count": 11,
   "metadata": {
    "collapsed": false
   },
   "outputs": [],
   "source": [
    "\n"
   ]
  },
  {
   "cell_type": "code",
   "execution_count": null,
   "metadata": {
    "collapsed": false
   },
   "outputs": [],
   "source": []
  },
  {
   "cell_type": "code",
   "execution_count": null,
   "metadata": {
    "collapsed": true
   },
   "outputs": [],
   "source": []
  }
 ],
 "metadata": {
  "kernelspec": {
   "display_name": "Python 3",
   "language": "python",
   "name": "python3"
  },
  "language_info": {
   "codemirror_mode": {
    "name": "ipython",
    "version": 3
   },
   "file_extension": ".py",
   "mimetype": "text/x-python",
   "name": "python",
   "nbconvert_exporter": "python",
   "pygments_lexer": "ipython3",
   "version": "3.5.1"
  }
 },
 "nbformat": 4,
 "nbformat_minor": 0
}
