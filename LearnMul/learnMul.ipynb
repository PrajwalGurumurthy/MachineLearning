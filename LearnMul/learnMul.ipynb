{
 "cells": [
  {
   "cell_type": "code",
   "execution_count": 354,
   "metadata": {
    "collapsed": false,
    "deletable": true,
    "editable": true
   },
   "outputs": [],
   "source": [
    "import tensorflow as tf"
   ]
  },
  {
   "cell_type": "code",
   "execution_count": 355,
   "metadata": {
    "collapsed": false,
    "deletable": true,
    "editable": true
   },
   "outputs": [],
   "source": [
    "a = tf.constant(5.0,name = \"a\");\n",
    "b = tf.Variable(50.0,name = \"b\");\n",
    "res = tf.constant(15.0,name=\"result\")\n",
    "mul = tf.mul(a,b)\n",
    "cost = tf.square(res-mul)\n",
    "opt = tf.train.GradientDescentOptimizer(0.001);\n",
    "train = opt.minimize(cost);\n",
    "\n",
    "summary_b = tf.summary.scalar('Finding_Input2', b)\n",
    "summary_cost = tf.summary.scalar('cost', cost)\n",
    "\n",
    "summary_writer = tf.summary.FileWriter('log_Finding_Input2_stats')"
   ]
  },
  {
   "cell_type": "code",
   "execution_count": 356,
   "metadata": {
    "collapsed": false,
    "deletable": true,
    "editable": true
   },
   "outputs": [
    {
     "name": "stdout",
     "output_type": "stream",
     "text": [
      "Before Learning:: a=5.0 b=50.0 currentRes=250.0 expectedRes=15.0\n",
      "Before Learning:: a=5.0 b=3.000002384185791 currentRes=15.000011444091797 expectedRes=15.0\n"
     ]
    }
   ],
   "source": [
    "with tf.Session() as sess:\n",
    "    sess.run(tf.global_variables_initializer())\n",
    "    print('Before Learning:: a={} b={} currentRes={} expectedRes={}'.format(sess.run(a),sess.run(b),sess.run(tf.mul(a,b)),sess.run(res)))\n",
    "    for step in range(1000):\n",
    "        summary_strb = sess.run(summary_b)\n",
    "        summary_strcost = sess.run(summary_cost)\n",
    "        summary_writer.add_summary(summary_strb, step)\n",
    "        summary_writer.add_summary(summary_strcost, step)        \n",
    "        sess.run(train)\n",
    "    print('Before Learning:: a={} b={} currentRes={} expectedRes={}'.format(sess.run(a),sess.run(b),sess.run(tf.mul(a,b)),sess.run(res)))    \n",
    "    "
   ]
  },
  {
   "cell_type": "code",
   "execution_count": null,
   "metadata": {
    "collapsed": true,
    "deletable": true,
    "editable": true
   },
   "outputs": [],
   "source": []
  },
  {
   "cell_type": "code",
   "execution_count": null,
   "metadata": {
    "collapsed": true,
    "deletable": true,
    "editable": true
   },
   "outputs": [],
   "source": []
  }
 ],
 "metadata": {
  "kernelspec": {
   "display_name": "Python 3",
   "language": "python",
   "name": "python3"
  },
  "language_info": {
   "codemirror_mode": {
    "name": "ipython",
    "version": 3
   },
   "file_extension": ".py",
   "mimetype": "text/x-python",
   "name": "python",
   "nbconvert_exporter": "python",
   "pygments_lexer": "ipython3",
   "version": "3.5.2"
  }
 },
 "nbformat": 4,
 "nbformat_minor": 2
}
